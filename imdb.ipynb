{
 "cells": [
  {
   "cell_type": "code",
   "execution_count": 1,
   "metadata": {},
   "outputs": [
    {
     "name": "stderr",
     "output_type": "stream",
     "text": [
      "C:\\Users\\home-pc\\Anaconda3\\lib\\site-packages\\dask\\config.py:168: YAMLLoadWarning: calling yaml.load() without Loader=... is deprecated, as the default Loader is unsafe. Please read https://msg.pyyaml.org/load for full details.\n",
      "  data = yaml.load(f.read()) or {}\n",
      "C:\\Users\\home-pc\\Anaconda3\\lib\\site-packages\\distributed\\config.py:20: YAMLLoadWarning: calling yaml.load() without Loader=... is deprecated, as the default Loader is unsafe. Please read https://msg.pyyaml.org/load for full details.\n",
      "  defaults = yaml.load(f)\n"
     ]
    }
   ],
   "source": [
    "import numpy as np\n",
    "import pandas as pd\n",
    "import glob\n",
    "from xgboost.sklearn import XGBClassifier\n",
    "import xgboost as xgb\n",
    "import matplotlib.pyplot as plt\n",
    "from sklearn.model_selection import cross_val_score\n",
    "from sklearn import metrics\n",
    "from sklearn.model_selection import GridSearchCV\n",
    "from sklearn.metrics import classification_report\n",
    "from sklearn.metrics import accuracy_score\n",
    "from sklearn.metrics import roc_auc_score"
   ]
  },
  {
   "cell_type": "markdown",
   "metadata": {},
   "source": [
    "# Чтение данных"
   ]
  },
  {
   "cell_type": "code",
   "execution_count": 2,
   "metadata": {},
   "outputs": [],
   "source": [
    "reviews_train = []\n",
    "label_train = []\n",
    "for file in glob.glob('C:/Users/home-pc/Desktop/aclImdb/train/pos/*.txt'):\n",
    "    if int(file[file.find('_')+1]) == 1 :\n",
    "        label_train.append(10)\n",
    "    else :\n",
    "        label_train.append(int(file[file.find('_')+1]))\n",
    "    f = open(file, encoding='utf-8')\n",
    "    line = f.readline() \n",
    "    reviews_train.append(line)\n",
    "    f.close()"
   ]
  },
  {
   "cell_type": "code",
   "execution_count": 3,
   "metadata": {},
   "outputs": [],
   "source": [
    "for file in glob.glob('C:/Users/home-pc/Desktop/aclImdb/train/neg/*.txt'):\n",
    "    label_train.append(int(file[file.find('_')+1]))\n",
    "    f = open(file, encoding='utf-8')\n",
    "    line = f.readline() \n",
    "    reviews_train.append(line)\n",
    "    f.close()"
   ]
  },
  {
   "cell_type": "code",
   "execution_count": 4,
   "metadata": {},
   "outputs": [],
   "source": [
    "reviews_test = []\n",
    "label_test = []\n",
    "for file in glob.glob('C:/Users/home-pc/Desktop/aclImdb/test/pos/*.txt'):\n",
    "    if int(file[file.find('_')+1]) == 1 :\n",
    "        label_test.append(10)\n",
    "    else :\n",
    "        label_test.append(int(file[file.find('_')+1]))\n",
    "    f = open(file, encoding='utf-8')\n",
    "    line = f.readline() \n",
    "    reviews_test.append(line)\n",
    "    f.close()"
   ]
  },
  {
   "cell_type": "code",
   "execution_count": 5,
   "metadata": {},
   "outputs": [],
   "source": [
    "for file in glob.glob('C:/Users/home-pc/Desktop/aclImdb/test/neg/*.txt'):\n",
    "    label_test.append(int(file[file.find('_')+1]))\n",
    "    f = open(file, encoding='utf-8')\n",
    "    line = f.readline() \n",
    "    reviews_test.append(line)\n",
    "    f.close()"
   ]
  },
  {
   "cell_type": "code",
   "execution_count": 6,
   "metadata": {},
   "outputs": [],
   "source": [
    "df_train = pd.DataFrame({\n",
    " 'review': reviews_train,\n",
    " 'label': label_train\n",
    "})"
   ]
  },
  {
   "cell_type": "code",
   "execution_count": 7,
   "metadata": {},
   "outputs": [
    {
     "data": {
      "text/html": [
       "<div>\n",
       "<style scoped>\n",
       "    .dataframe tbody tr th:only-of-type {\n",
       "        vertical-align: middle;\n",
       "    }\n",
       "\n",
       "    .dataframe tbody tr th {\n",
       "        vertical-align: top;\n",
       "    }\n",
       "\n",
       "    .dataframe thead th {\n",
       "        text-align: right;\n",
       "    }\n",
       "</style>\n",
       "<table border=\"1\" class=\"dataframe\">\n",
       "  <thead>\n",
       "    <tr style=\"text-align: right;\">\n",
       "      <th></th>\n",
       "      <th>review</th>\n",
       "      <th>label</th>\n",
       "    </tr>\n",
       "  </thead>\n",
       "  <tbody>\n",
       "    <tr>\n",
       "      <th>0</th>\n",
       "      <td>Bromwell High is a cartoon comedy. It ran at t...</td>\n",
       "      <td>9</td>\n",
       "    </tr>\n",
       "    <tr>\n",
       "      <th>1</th>\n",
       "      <td>Homelessness (or Houselessness as George Carli...</td>\n",
       "      <td>8</td>\n",
       "    </tr>\n",
       "    <tr>\n",
       "      <th>2</th>\n",
       "      <td>Brilliant over-acting by Lesley Ann Warren. Be...</td>\n",
       "      <td>10</td>\n",
       "    </tr>\n",
       "    <tr>\n",
       "      <th>3</th>\n",
       "      <td>This is easily the most underrated film inn th...</td>\n",
       "      <td>7</td>\n",
       "    </tr>\n",
       "    <tr>\n",
       "      <th>4</th>\n",
       "      <td>This is not the typical Mel Brooks film. It wa...</td>\n",
       "      <td>8</td>\n",
       "    </tr>\n",
       "  </tbody>\n",
       "</table>\n",
       "</div>"
      ],
      "text/plain": [
       "                                              review  label\n",
       "0  Bromwell High is a cartoon comedy. It ran at t...      9\n",
       "1  Homelessness (or Houselessness as George Carli...      8\n",
       "2  Brilliant over-acting by Lesley Ann Warren. Be...     10\n",
       "3  This is easily the most underrated film inn th...      7\n",
       "4  This is not the typical Mel Brooks film. It wa...      8"
      ]
     },
     "execution_count": 7,
     "metadata": {},
     "output_type": "execute_result"
    }
   ],
   "source": [
    "df_train.head()"
   ]
  },
  {
   "cell_type": "code",
   "execution_count": 8,
   "metadata": {},
   "outputs": [],
   "source": [
    "df_test = pd.DataFrame({\n",
    " 'review': reviews_test,\n",
    " 'label': label_test\n",
    "})"
   ]
  },
  {
   "cell_type": "markdown",
   "metadata": {},
   "source": [
    "# Подготовка данных"
   ]
  },
  {
   "cell_type": "markdown",
   "metadata": {},
   "source": [
    "Предобработка текстов: разбиение по пробелам и знакам пунктуации; фильтрация не-слов, стоп-слов, коротких слов; приведение к нормальной форме."
   ]
  },
  {
   "cell_type": "code",
   "execution_count": 9,
   "metadata": {},
   "outputs": [
    {
     "name": "stderr",
     "output_type": "stream",
     "text": [
      "[nltk_data] Downloading package punkt to C:\\Users\\home-\n",
      "[nltk_data]     pc\\AppData\\Roaming\\nltk_data...\n",
      "[nltk_data]   Package punkt is already up-to-date!\n",
      "[nltk_data] Downloading package stopwords to C:\\Users\\home-\n",
      "[nltk_data]     pc\\AppData\\Roaming\\nltk_data...\n",
      "[nltk_data]   Package stopwords is already up-to-date!\n",
      "[nltk_data] Downloading package wordnet to C:\\Users\\home-\n",
      "[nltk_data]     pc\\AppData\\Roaming\\nltk_data...\n",
      "[nltk_data]   Package wordnet is already up-to-date!\n"
     ]
    }
   ],
   "source": [
    "import re\n",
    "import nltk\n",
    "from nltk.corpus import stopwords\n",
    "from nltk.stem import WordNetLemmatizer\n",
    "\n",
    "nltk.download('punkt')\n",
    "nltk.download('stopwords')\n",
    "nltk.download('wordnet')\n",
    "\n",
    "en_stop = list(stopwords.words('english'))\n",
    "lemmatizer = WordNetLemmatizer() \n",
    "\n",
    "def tokenize(text):\n",
    "    tokens = nltk.word_tokenize(text.lower())\n",
    "    tokens = [t for t in tokens if\n",
    "              re.match(r'[^\\W\\d]*$', t) and (len(t) > 2) and (t not in en_stop)]\n",
    "    tokens = [lemmatizer.lemmatize(t) for t in tokens]\n",
    "    return tokens\n",
    "\n",
    "tokens_train = df_train['review'].apply(tokenize)"
   ]
  },
  {
   "cell_type": "code",
   "execution_count": 10,
   "metadata": {},
   "outputs": [],
   "source": [
    "tokens_test = df_test['review'].apply(tokenize)"
   ]
  },
  {
   "cell_type": "markdown",
   "metadata": {},
   "source": [
    "# Обучение модели Word2Vec"
   ]
  },
  {
   "cell_type": "markdown",
   "metadata": {},
   "source": [
    "С уже подобранными оптимальными параметрами"
   ]
  },
  {
   "cell_type": "code",
   "execution_count": 10,
   "metadata": {},
   "outputs": [],
   "source": [
    "from gensim.models import Word2Vec\n",
    "\n",
    "model = Word2Vec(tokens_train, size=300, window=5, min_count=2, iter=5, workers=10, sg=1, sample =1e-3)"
   ]
  },
  {
   "cell_type": "markdown",
   "metadata": {},
   "source": [
    "# Векторное представление текста"
   ]
  },
  {
   "cell_type": "markdown",
   "metadata": {},
   "source": [
    "Каждое слово в тексте представляем в виде вектора, дальше каждый текст заменяем на средний вектор"
   ]
  },
  {
   "cell_type": "code",
   "execution_count": 11,
   "metadata": {},
   "outputs": [],
   "source": [
    "def encode(list_of_tokens):\n",
    "    x = np.array([model.wv[t] for t in list_of_tokens if t in model.wv.vocab])\n",
    "    return np.mean(x, axis=0)\n",
    "\n",
    "features_train = np.array([encode(t) for t in tokens_train])\n",
    "features_test = np.array([encode(t) for t in tokens_test])"
   ]
  },
  {
   "cell_type": "markdown",
   "metadata": {},
   "source": [
    "# Модель классификации "
   ]
  },
  {
   "cell_type": "code",
   "execution_count": 224,
   "metadata": {},
   "outputs": [
    {
     "name": "stderr",
     "output_type": "stream",
     "text": [
      "C:\\Users\\home-pc\\Anaconda3\\lib\\site-packages\\ipykernel_launcher.py:1: SettingWithCopyWarning: \n",
      "A value is trying to be set on a copy of a slice from a DataFrame\n",
      "\n",
      "See the caveats in the documentation: http://pandas.pydata.org/pandas-docs/stable/indexing.html#indexing-view-versus-copy\n",
      "  \"\"\"Entry point for launching an IPython kernel.\n",
      "C:\\Users\\home-pc\\Anaconda3\\lib\\site-packages\\ipykernel_launcher.py:2: SettingWithCopyWarning: \n",
      "A value is trying to be set on a copy of a slice from a DataFrame\n",
      "\n",
      "See the caveats in the documentation: http://pandas.pydata.org/pandas-docs/stable/indexing.html#indexing-view-versus-copy\n",
      "  \n",
      "C:\\Users\\home-pc\\Anaconda3\\lib\\site-packages\\ipykernel_launcher.py:3: SettingWithCopyWarning: \n",
      "A value is trying to be set on a copy of a slice from a DataFrame\n",
      "\n",
      "See the caveats in the documentation: http://pandas.pydata.org/pandas-docs/stable/indexing.html#indexing-view-versus-copy\n",
      "  This is separate from the ipykernel package so we can avoid doing imports until\n",
      "C:\\Users\\home-pc\\Anaconda3\\lib\\site-packages\\ipykernel_launcher.py:4: SettingWithCopyWarning: \n",
      "A value is trying to be set on a copy of a slice from a DataFrame\n",
      "\n",
      "See the caveats in the documentation: http://pandas.pydata.org/pandas-docs/stable/indexing.html#indexing-view-versus-copy\n",
      "  after removing the cwd from sys.path.\n"
     ]
    }
   ],
   "source": [
    "df_train['label'][df_train['label'].values<=4] = 0\n",
    "df_train['label'][df_train['label'].values>=7] = 1\n",
    "df_test['label'][df_test['label'].values<=4] = 0\n",
    "df_test['label'][df_test['label'].values>=7] = 1"
   ]
  },
  {
   "cell_type": "code",
   "execution_count": 13,
   "metadata": {},
   "outputs": [
    {
     "data": {
      "text/plain": [
       "XGBClassifier(base_score=0.5, booster=None, colsample_bylevel=1,\n",
       "       colsample_bynode=1, colsample_bytree=1, gamma=0, gpu_id=-1,\n",
       "       importance_type='gain', interaction_constraints=None,\n",
       "       learning_rate=0.300000012, max_delta_step=0, max_depth=6,\n",
       "       min_child_weight=1, missing=nan, monotone_constraints=None,\n",
       "       n_estimators=100, n_jobs=0, num_parallel_tree=1,\n",
       "       objective='binary:logistic', random_state=0, reg_alpha=0,\n",
       "       reg_lambda=1, scale_pos_weight=1, subsample=1, tree_method=None,\n",
       "       validate_parameters=False, verbosity=None)"
      ]
     },
     "execution_count": 13,
     "metadata": {},
     "output_type": "execute_result"
    }
   ],
   "source": [
    "xgb_model2 = xgb.XGBClassifier()\n",
    "xgb_model2.fit(features_train, df_train['label'].values)"
   ]
  },
  {
   "cell_type": "code",
   "execution_count": 14,
   "metadata": {},
   "outputs": [],
   "source": [
    "prediction_train = xgb_model2.predict(features_train)\n",
    "prediction_test = xgb_model2.predict(features_test)"
   ]
  },
  {
   "cell_type": "code",
   "execution_count": 16,
   "metadata": {},
   "outputs": [
    {
     "name": "stdout",
     "output_type": "stream",
     "text": [
      "0.99692\n",
      "0.83564\n"
     ]
    }
   ],
   "source": [
    "print(roc_auc_score(df_train['label'].values, prediction_train))\n",
    "print(roc_auc_score(df_test['label'].values, prediction_test))"
   ]
  },
  {
   "cell_type": "markdown",
   "metadata": {},
   "source": [
    "Можно добиться лучшей точности, для этого воспользуемся моделью doc2vec"
   ]
  },
  {
   "cell_type": "markdown",
   "metadata": {},
   "source": [
    "# Обучение модели Doc2Vec"
   ]
  },
  {
   "cell_type": "markdown",
   "metadata": {},
   "source": [
    "С уже подобранными оптимальными параметрами"
   ]
  },
  {
   "cell_type": "code",
   "execution_count": 10,
   "metadata": {},
   "outputs": [],
   "source": [
    "from gensim.models.doc2vec import Doc2Vec, TaggedDocument\n",
    "\n",
    "texts = [TaggedDocument(doc, [i]) for i, doc in enumerate(tokens_train)]\n",
    " \n",
    "model1 = Doc2Vec(texts, vector_size=300, workers=10, epochs=25, window=5, hs=0, negative=15, min_count=1)"
   ]
  },
  {
   "cell_type": "markdown",
   "metadata": {},
   "source": [
    "# Векторное представление текста"
   ]
  },
  {
   "cell_type": "code",
   "execution_count": 11,
   "metadata": {},
   "outputs": [],
   "source": [
    "d2v_features_train = []\n",
    "for x in texts:\n",
    "    d2v_features_train.append(model1.infer_vector(x.words))\n",
    "\n",
    "d2v_features_train = np.array(d2v_features_train)"
   ]
  },
  {
   "cell_type": "code",
   "execution_count": 12,
   "metadata": {},
   "outputs": [],
   "source": [
    "d2v_features_test = []\n",
    "for x in texts:\n",
    "    d2v_features_test.append(model1.infer_vector(x.words))\n",
    "d2v_features_test = np.array(d2v_features_test)"
   ]
  },
  {
   "cell_type": "markdown",
   "metadata": {},
   "source": [
    "# Модель классификации "
   ]
  },
  {
   "cell_type": "code",
   "execution_count": 59,
   "metadata": {},
   "outputs": [
    {
     "data": {
      "text/plain": [
       "XGBClassifier(base_score=0.5, booster=None, colsample_bylevel=1,\n",
       "       colsample_bynode=1, colsample_bytree=1, gamma=0, gpu_id=-1,\n",
       "       importance_type='gain', interaction_constraints=None,\n",
       "       learning_rate=0.300000012, max_delta_step=0, max_depth=6,\n",
       "       min_child_weight=1, missing=nan, monotone_constraints=None,\n",
       "       n_estimators=100, n_jobs=0, num_parallel_tree=1,\n",
       "       objective='binary:logistic', random_state=0, reg_alpha=0,\n",
       "       reg_lambda=1, scale_pos_weight=1, subsample=1, tree_method=None,\n",
       "       validate_parameters=False, verbosity=None)"
      ]
     },
     "execution_count": 59,
     "metadata": {},
     "output_type": "execute_result"
    }
   ],
   "source": [
    "xgb_model1 = xgb.XGBClassifier()\n",
    "xgb_model1.fit(d2v_features_train, df_train['label'].values)"
   ]
  },
  {
   "cell_type": "code",
   "execution_count": 226,
   "metadata": {},
   "outputs": [],
   "source": [
    "prediction_train = xgb_model1.predict(d2v_features_train)\n",
    "prediction_test = xgb_model1.predict(d2v_features_test)"
   ]
  },
  {
   "cell_type": "code",
   "execution_count": 227,
   "metadata": {},
   "outputs": [],
   "source": [
    "proba_train= xgb_model1.predict_proba(d2v_features_train)\n",
    "proba_test = xgb_model1.predict_proba(d2v_features_test)"
   ]
  },
  {
   "cell_type": "code",
   "execution_count": 228,
   "metadata": {},
   "outputs": [
    {
     "name": "stdout",
     "output_type": "stream",
     "text": [
      "train  0.99844\n",
      "test  0.94016\n"
     ]
    }
   ],
   "source": [
    "print('train ',accuracy_score(df_train['label'].values, prediction_train))\n",
    "print('test ',accuracy_score(df_test['label'].values, prediction_test))"
   ]
  },
  {
   "cell_type": "code",
   "execution_count": 230,
   "metadata": {},
   "outputs": [
    {
     "name": "stdout",
     "output_type": "stream",
     "text": [
      "train  0.99844\n",
      "test  0.94016\n"
     ]
    }
   ],
   "source": [
    "print('train ',roc_auc_score(df_train['label'].values, prediction_train))\n",
    "print('test ',roc_auc_score(df_test['label'].values, prediction_test))"
   ]
  },
  {
   "cell_type": "markdown",
   "metadata": {},
   "source": [
    "В силу однородности данных roc_auc совпадает с accuracy, так что в дальнейшем можем смотреть только на одну из эти двух метрик"
   ]
  },
  {
   "cell_type": "code",
   "execution_count": 64,
   "metadata": {},
   "outputs": [
    {
     "name": "stdout",
     "output_type": "stream",
     "text": [
      "Train\n",
      "               precision    recall  f1-score   support\n",
      "\n",
      "           0       1.00      1.00      1.00     12500\n",
      "           1       1.00      1.00      1.00     12500\n",
      "\n",
      "   micro avg       1.00      1.00      1.00     25000\n",
      "   macro avg       1.00      1.00      1.00     25000\n",
      "weighted avg       1.00      1.00      1.00     25000\n",
      "\n",
      "Test\n",
      "               precision    recall  f1-score   support\n",
      "\n",
      "           0       0.94      0.94      0.94     12500\n",
      "           1       0.94      0.94      0.94     12500\n",
      "\n",
      "   micro avg       0.94      0.94      0.94     25000\n",
      "   macro avg       0.94      0.94      0.94     25000\n",
      "weighted avg       0.94      0.94      0.94     25000\n",
      "\n"
     ]
    }
   ],
   "source": [
    "print('Train\\n', classification_report(df_train['label'].values, prediction_train))\n",
    "print('Test\\n', classification_report(df_test['label'].values, prediction_test))"
   ]
  },
  {
   "cell_type": "code",
   "execution_count": null,
   "metadata": {},
   "outputs": [],
   "source": []
  },
  {
   "cell_type": "code",
   "execution_count": 77,
   "metadata": {},
   "outputs": [],
   "source": [
    "for i in range(len(proba_train)):\n",
    "    if proba_train[i][1] < 0.2:\n",
    "        prediction_train[i] = 1\n",
    "    if (proba_train[i][1] < 0.3) & (proba_train[i][1]>=0.2):\n",
    "        prediction_train[i] = 2\n",
    "    if (proba_train[i][1] < 0.4) & (proba_train[i][1]>=0.3):\n",
    "        prediction_train[i] = 3\n",
    "    if (proba_train[i][1] < 0.5) & (proba_train[i][1]>=0.4):\n",
    "        prediction_train[i] = 4\n",
    "    if (proba_train[i][1] < 0.6) & (proba_train[i][1]>=0.5):\n",
    "        prediction_train[i] = 7\n",
    "    if (proba_train[i][1] < 0.7) & (proba_train[i][1]>=0.6):\n",
    "        prediction_train[i] = 8\n",
    "    if (proba_train[i][1] < 0.8) & (proba_train[i][1]>=0.7):\n",
    "        prediction_train[i] = 9\n",
    "    if proba_train[i][1]>=0.8:\n",
    "        prediction_train[i] = 10"
   ]
  },
  {
   "cell_type": "code",
   "execution_count": 78,
   "metadata": {},
   "outputs": [],
   "source": [
    "for i in range(len(proba_test)):\n",
    "    if proba_test[i][1] < 0.2:\n",
    "        prediction_test[i] = 1\n",
    "    if (proba_test[i][1] < 0.3) & (proba_test[i][1]>=0.2):\n",
    "        prediction_test[i] = 2\n",
    "    if (proba_test[i][1] < 0.4) & (proba_test[i][1]>=0.3):\n",
    "        prediction_test[i] = 3\n",
    "    if (proba_test[i][1] < 0.5) & (proba_test[i][1]>=0.4):\n",
    "        prediction_test[i] = 4\n",
    "    if (proba_test[i][1] < 0.6) & (proba_test[i][1]>=0.5):\n",
    "        prediction_test[i] = 7\n",
    "    if (proba_test[i][1] < 0.7) & (proba_test[i][1]>=0.6):\n",
    "        prediction_test[i] = 8\n",
    "    if (proba_test[i][1] < 0.8) & (proba_test[i][1]>=0.7):\n",
    "        prediction_test[i] = 9\n",
    "    if proba_train[i][1]>=0.8:\n",
    "        prediction_test[i] = 10"
   ]
  },
  {
   "cell_type": "code",
   "execution_count": 67,
   "metadata": {},
   "outputs": [],
   "source": [
    "df_train = pd.DataFrame({\n",
    " 'review': reviews_train,\n",
    " 'label': label_train\n",
    "})\n",
    "df_test = pd.DataFrame({\n",
    " 'review': reviews_test,\n",
    " 'label': label_test\n",
    "})"
   ]
  },
  {
   "cell_type": "code",
   "execution_count": 79,
   "metadata": {},
   "outputs": [
    {
     "name": "stdout",
     "output_type": "stream",
     "text": [
      "0.38656\n",
      "0.36204\n"
     ]
    }
   ],
   "source": [
    "print(accuracy_score(df_train['label'].values, prediction_train))\n",
    "print(accuracy_score(df_test['label'].values, prediction_test))"
   ]
  },
  {
   "cell_type": "code",
   "execution_count": 220,
   "metadata": {},
   "outputs": [],
   "source": [
    "#print(classification_report(df_train['label'].values, prediction_train))\n",
    "#print(classification_report(df_test['label'].values, prediction_test))"
   ]
  },
  {
   "cell_type": "markdown",
   "metadata": {},
   "source": [
    "# Отбор фичей "
   ]
  },
  {
   "cell_type": "code",
   "execution_count": 31,
   "metadata": {},
   "outputs": [
    {
     "name": "stdout",
     "output_type": "stream",
     "text": [
      "153\n"
     ]
    }
   ],
   "source": [
    "# удаление фичей, которое почти не коррелированы с таргетом \n",
    "from math import fabs\n",
    "from scipy.stats.stats import pearsonr\n",
    "v=[] \n",
    "for i in range(d2v_features_train.shape[1]):\n",
    "    if(fabs(pearsonr(d2v_features_train[:,i],df_train['label'].values)[0])>0.05):\n",
    "        v.append(i)\n",
    "print(len(v))"
   ]
  },
  {
   "cell_type": "code",
   "execution_count": 32,
   "metadata": {},
   "outputs": [],
   "source": [
    "X = d2v_features_train[:,v]"
   ]
  },
  {
   "cell_type": "code",
   "execution_count": 33,
   "metadata": {},
   "outputs": [
    {
     "data": {
      "text/plain": [
       "XGBClassifier(base_score=0.5, booster=None, colsample_bylevel=1,\n",
       "       colsample_bynode=1, colsample_bytree=1, gamma=0, gpu_id=-1,\n",
       "       importance_type='gain', interaction_constraints=None,\n",
       "       learning_rate=0.300000012, max_delta_step=0, max_depth=6,\n",
       "       min_child_weight=1, missing=nan, monotone_constraints=None,\n",
       "       n_estimators=100, n_jobs=0, num_parallel_tree=1,\n",
       "       objective='binary:logistic', random_state=0, reg_alpha=0,\n",
       "       reg_lambda=1, scale_pos_weight=1, subsample=1, tree_method=None,\n",
       "       validate_parameters=False, verbosity=None)"
      ]
     },
     "execution_count": 33,
     "metadata": {},
     "output_type": "execute_result"
    }
   ],
   "source": [
    "xgb_model4 = xgb.XGBClassifier()\n",
    "xgb_model4.fit(X, df_train['label'].values)"
   ]
  },
  {
   "cell_type": "code",
   "execution_count": 34,
   "metadata": {},
   "outputs": [],
   "source": [
    "prediction_train = xgb_model4.predict(X)\n",
    "prediction_test = xgb_model4.predict(d2v_features_test[:,v])"
   ]
  },
  {
   "cell_type": "code",
   "execution_count": 30,
   "metadata": {},
   "outputs": [
    {
     "name": "stdout",
     "output_type": "stream",
     "text": [
      "0.95584\n",
      "0.86952\n"
     ]
    }
   ],
   "source": [
    "print(accuracy_score(df_train['label'].values, prediction_train))\n",
    "print(accuracy_score(df_test['label'].values, prediction_test))"
   ]
  },
  {
   "cell_type": "markdown",
   "metadata": {},
   "source": [
    "Сильно страдает качество, поэтому оставим все признаки"
   ]
  },
  {
   "cell_type": "code",
   "execution_count": 140,
   "metadata": {},
   "outputs": [],
   "source": [
    "#функция для cross-validation\n",
    "def modelfit(alg, X_train, Y_train, useTrainCV=True, cv_folds=5, early_stopping_rounds=50):\n",
    "    \n",
    "    if useTrainCV:\n",
    "        xgb_param = alg.get_xgb_params()\n",
    "        xgtrain = xgb.DMatrix(X_train.values, Y_train.values)\n",
    "        cvresult = xgb.cv(xgb_param, xgtrain, num_boost_round=alg.get_params()['n_estimators'], nfold=cv_folds,\n",
    "            metrics='auc', early_stopping_rounds=early_stopping_rounds)\n",
    "        alg.set_params(n_estimators=cvresult.shape[0])\n",
    "    print(\"the best number of n_estimators is \",cvresult.shape[0])\n",
    "    \n",
    "    #Fit the algorithm on the data\n",
    "    alg.fit(X_train, Y_train, eval_metric='auc')\n",
    "        \n",
    "    #Predict training set:\n",
    "    dtrain_predictions = alg.predict(X_train)\n",
    "    dtrain_predprob = alg.predict_proba(X_train)[:,1]\n",
    "        \n",
    "    #Print model report:\n",
    "    print (\"Accuracy (Train): %.4g\" % accuracy_score(Y_train.values, dtrain_predictions))\n",
    "    print (\"AUC Score (Train): %f\" % roc_auc_score(Y_train, dtrain_predprob))                 "
   ]
  },
  {
   "cell_type": "markdown",
   "metadata": {},
   "source": [
    "Попробуем пустить в ход нейронные сети"
   ]
  },
  {
   "cell_type": "code",
   "execution_count": 127,
   "metadata": {},
   "outputs": [
    {
     "name": "stderr",
     "output_type": "stream",
     "text": [
      "Using TensorFlow backend.\n"
     ]
    }
   ],
   "source": [
    "from keras.models import Sequential\n",
    "from keras.layers import Dense, Activation\n",
    "from keras.utils import to_categorical"
   ]
  },
  {
   "cell_type": "code",
   "execution_count": 184,
   "metadata": {},
   "outputs": [
    {
     "name": "stdout",
     "output_type": "stream",
     "text": [
      "Model: \"sequential_13\"\n",
      "_________________________________________________________________\n",
      "Layer (type)                 Output Shape              Param #   \n",
      "=================================================================\n",
      "dense_52 (Dense)             (None, 32)                9632      \n",
      "_________________________________________________________________\n",
      "dense_53 (Dense)             (None, 64)                2112      \n",
      "_________________________________________________________________\n",
      "dense_54 (Dense)             (None, 128)               8320      \n",
      "_________________________________________________________________\n",
      "dense_55 (Dense)             (None, 1)                 129       \n",
      "=================================================================\n",
      "Total params: 20,193\n",
      "Trainable params: 20,193\n",
      "Non-trainable params: 0\n",
      "_________________________________________________________________\n"
     ]
    }
   ],
   "source": [
    "model3 = Sequential([\n",
    "    Dense(32, input_shape=(d2v_features_train.shape[1],), activation='relu'),\n",
    "    Dense(64, activation='relu'),\n",
    "    Dense(128, activation='relu'),\n",
    "    Dense(1, activation='sigmoid'),\n",
    "    \n",
    "])\n",
    "\n",
    "model3.summary()"
   ]
  },
  {
   "cell_type": "code",
   "execution_count": 185,
   "metadata": {},
   "outputs": [],
   "source": [
    "model3.compile(optimizer='adam',\n",
    "              loss='binary_crossentropy',\n",
    "              metrics=['accuracy'])"
   ]
  },
  {
   "cell_type": "code",
   "execution_count": 132,
   "metadata": {
    "collapsed": true
   },
   "outputs": [
    {
     "name": "stderr",
     "output_type": "stream",
     "text": [
      "C:\\Users\\home-pc\\Anaconda3\\lib\\site-packages\\ipykernel_launcher.py:1: SettingWithCopyWarning: \n",
      "A value is trying to be set on a copy of a slice from a DataFrame\n",
      "\n",
      "See the caveats in the documentation: http://pandas.pydata.org/pandas-docs/stable/indexing.html#indexing-view-versus-copy\n",
      "  \"\"\"Entry point for launching an IPython kernel.\n",
      "C:\\Users\\home-pc\\Anaconda3\\lib\\site-packages\\ipykernel_launcher.py:2: SettingWithCopyWarning: \n",
      "A value is trying to be set on a copy of a slice from a DataFrame\n",
      "\n",
      "See the caveats in the documentation: http://pandas.pydata.org/pandas-docs/stable/indexing.html#indexing-view-versus-copy\n",
      "  \n",
      "C:\\Users\\home-pc\\Anaconda3\\lib\\site-packages\\ipykernel_launcher.py:3: SettingWithCopyWarning: \n",
      "A value is trying to be set on a copy of a slice from a DataFrame\n",
      "\n",
      "See the caveats in the documentation: http://pandas.pydata.org/pandas-docs/stable/indexing.html#indexing-view-versus-copy\n",
      "  This is separate from the ipykernel package so we can avoid doing imports until\n",
      "C:\\Users\\home-pc\\Anaconda3\\lib\\site-packages\\ipykernel_launcher.py:4: SettingWithCopyWarning: \n",
      "A value is trying to be set on a copy of a slice from a DataFrame\n",
      "\n",
      "See the caveats in the documentation: http://pandas.pydata.org/pandas-docs/stable/indexing.html#indexing-view-versus-copy\n",
      "  after removing the cwd from sys.path.\n"
     ]
    }
   ],
   "source": [
    "df_train['label'][df_train['label'].values<=4] = 0\n",
    "df_train['label'][df_train['label'].values>=7] = 1\n",
    "df_test['label'][df_test['label'].values<=4] = 0\n",
    "df_test['label'][df_test['label'].values>=7] = 1"
   ]
  },
  {
   "cell_type": "code",
   "execution_count": 186,
   "metadata": {},
   "outputs": [
    {
     "name": "stdout",
     "output_type": "stream",
     "text": [
      "Train on 20000 samples, validate on 5000 samples\n",
      "Epoch 1/10\n",
      "20000/20000 [==============================] - 1s 69us/step - loss: 0.4661 - accuracy: 0.7653 - val_loss: 0.3574 - val_accuracy: 0.8494\n",
      "Epoch 2/10\n",
      "20000/20000 [==============================] - 1s 32us/step - loss: 0.3516 - accuracy: 0.8499 - val_loss: 0.5080 - val_accuracy: 0.7680\n",
      "Epoch 3/10\n",
      "20000/20000 [==============================] - 1s 31us/step - loss: 0.3324 - accuracy: 0.8581 - val_loss: 0.4481 - val_accuracy: 0.7996\n",
      "Epoch 4/10\n",
      "20000/20000 [==============================] - 1s 32us/step - loss: 0.3110 - accuracy: 0.8676 - val_loss: 0.4116 - val_accuracy: 0.8192\n",
      "Epoch 5/10\n",
      "20000/20000 [==============================] - 1s 33us/step - loss: 0.2892 - accuracy: 0.8796 - val_loss: 0.5072 - val_accuracy: 0.7712\n",
      "Epoch 6/10\n",
      "20000/20000 [==============================] - 1s 33us/step - loss: 0.2686 - accuracy: 0.8898 - val_loss: 0.4384 - val_accuracy: 0.8076\n",
      "Epoch 7/10\n",
      "20000/20000 [==============================] - 1s 37us/step - loss: 0.2477 - accuracy: 0.8989 - val_loss: 0.5362 - val_accuracy: 0.7674\n",
      "Epoch 8/10\n",
      "20000/20000 [==============================] - 1s 32us/step - loss: 0.2251 - accuracy: 0.9118 - val_loss: 0.4827 - val_accuracy: 0.7992\n",
      "Epoch 9/10\n",
      "20000/20000 [==============================] - 1s 39us/step - loss: 0.2051 - accuracy: 0.9196 - val_loss: 0.4165 - val_accuracy: 0.8392\n",
      "Epoch 10/10\n",
      "20000/20000 [==============================] - 1s 35us/step - loss: 0.1844 - accuracy: 0.9287 - val_loss: 0.4089 - val_accuracy: 0.8368\n"
     ]
    }
   ],
   "source": [
    "history = model3.fit(d2v_features_train, df_train['label'].values, epochs=10, batch_size=128, validation_split=0.2)"
   ]
  },
  {
   "cell_type": "code",
   "execution_count": 187,
   "metadata": {},
   "outputs": [
    {
     "data": {
      "image/png": "[encoded data removed]",
      "text/plain": [
       "<Figure size 432x288 with 1 Axes>"
      ]
     },
     "metadata": {
      "needs_background": "light"
     },
     "output_type": "display_data"
    }
   ],
   "source": [
    "plt.plot(history.history['loss'], label='train')\n",
    "plt.plot(history.history['val_loss'], label='test')\n",
    "plt.legend()\n",
    "plt.show()"
   ]
  },
  {
   "cell_type": "code",
   "execution_count": 188,
   "metadata": {},
   "outputs": [
    {
     "data": {
      "image/png": "[encoded data removed]",
      "text/plain": [
       "<Figure size 432x288 with 1 Axes>"
      ]
     },
     "metadata": {
      "needs_background": "light"
     },
     "output_type": "display_data"
    }
   ],
   "source": [
    "plt.plot(history.history['accuracy'], label='train')\n",
    "plt.plot(history.history['val_accuracy'], label='test')\n",
    "plt.legend()\n",
    "plt.show()"
   ]
  },
  {
   "cell_type": "code",
   "execution_count": 214,
   "metadata": {},
   "outputs": [
    {
     "name": "stdout",
     "output_type": "stream",
     "text": [
      "              precision    recall  f1-score   support\n",
      "\n",
      "           0       0.96      0.87      0.91     12500\n",
      "           1       0.88      0.97      0.92     12500\n",
      "\n",
      "   micro avg       0.92      0.92      0.92     25000\n",
      "   macro avg       0.92      0.92      0.92     25000\n",
      "weighted avg       0.92      0.92      0.92     25000\n",
      "\n",
      "              precision    recall  f1-score   support\n",
      "\n",
      "           0       0.94      0.85      0.90     12500\n",
      "           1       0.87      0.95      0.91     12500\n",
      "\n",
      "   micro avg       0.90      0.90      0.90     25000\n",
      "   macro avg       0.91      0.90      0.90     25000\n",
      "weighted avg       0.91      0.90      0.90     25000\n",
      "\n"
     ]
    }
   ],
   "source": [
    "pred_train = model3.predict(d2v_features_train) > 0.34\n",
    "print(classification_report(df_train['label'].values, pred_train))\n",
    "pred_test = model3.predict(d2v_features_test) > 0.34\n",
    "print(classification_report(df_test['label'].values, pred_test))"
   ]
  },
  {
   "cell_type": "code",
   "execution_count": 215,
   "metadata": {},
   "outputs": [
    {
     "name": "stdout",
     "output_type": "stream",
     "text": [
      "train  0.9705111968000001\n",
      "test  0.9646597760000001\n"
     ]
    }
   ],
   "source": [
    "print('train ', roc_auc_score(df_train['label'].values, model3.predict(d2v_features_train)))\n",
    "print('test ', roc_auc_score(df_test['label'].values, model3.predict(d2v_features_test)))"
   ]
  },
  {
   "cell_type": "markdown",
   "metadata": {},
   "source": [
    "Переобучения практически нет"
   ]
  },
  {
   "cell_type": "markdown",
   "metadata": {},
   "source": [
    "# Сохраняем модели"
   ]
  },
  {
   "cell_type": "code",
   "execution_count": 222,
   "metadata": {},
   "outputs": [],
   "source": [
    "import pickle \n",
    "with open('model_d2v.pickle', 'wb') as output:\n",
    "    pickle.dump(model1, output)\n",
    "    output.close\n",
    "\n",
    "with open('model_clf.pickle', 'wb') as output:\n",
    "    pickle.dump(xgb_model1, output)\n",
    "    output.close"
   ]
  },
  {
   "cell_type": "code",
   "execution_count": null,
   "metadata": {},
   "outputs": [],
   "source": []
  }
 ],
 "metadata": {
  "kernelspec": {
   "display_name": "Python 3",
   "language": "python",
   "name": "python3"
  },
  "language_info": {
   "codemirror_mode": {
    "name": "ipython",
    "version": 3
   },
   "file_extension": ".py",
   "mimetype": "text/x-python",
   "name": "python",
   "nbconvert_exporter": "python",
   "pygments_lexer": "ipython3",
   "version": "3.7.3"
  }
 },
 "nbformat": 4,
 "nbformat_minor": 2
}
